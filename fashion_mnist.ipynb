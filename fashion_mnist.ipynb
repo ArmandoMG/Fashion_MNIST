{
 "cells": [
  {
   "cell_type": "markdown",
   "id": "resistant-square",
   "metadata": {},
   "source": [
    "## Fashion MNIST"
   ]
  },
  {
   "cell_type": "markdown",
   "id": "paperback-titanium",
   "metadata": {},
   "source": [
    "In this jupyter notebook I will implement a ML learning algorithm to solve the Fashion MNIST classification problem. In this case I'll use SVM, since its a powerful algorithm a works well with this dataset (even though its pretty large)."
   ]
  },
  {
   "cell_type": "markdown",
   "id": "biological-gilbert",
   "metadata": {},
   "source": [
    "### Importing dataset and the libraries"
   ]
  },
  {
   "cell_type": "code",
   "execution_count": 1,
   "id": "expensive-prophet",
   "metadata": {},
   "outputs": [],
   "source": [
    "import numpy as np\n",
    "import matplotlib.pyplot as plt\n",
    "import pandas as pd\n",
    "\n",
    "# Importing the dataset\n",
    "train_data = pd.read_csv('fashion-mnist_train.csv')\n",
    "test_data  = pd.read_csv('fashion-mnist_test.csv')"
   ]
  },
  {
   "cell_type": "markdown",
   "id": "narrative-facing",
   "metadata": {},
   "source": [
    "Since its already split and ordered, we can proceed. Lets just do a quick check"
   ]
  },
  {
   "cell_type": "code",
   "execution_count": 2,
   "id": "accomplished-lincoln",
   "metadata": {},
   "outputs": [
    {
     "data": {
      "text/plain": [
       "label       0\n",
       "pixel1      0\n",
       "pixel2      0\n",
       "pixel3      0\n",
       "pixel4      0\n",
       "           ..\n",
       "pixel780    0\n",
       "pixel781    0\n",
       "pixel782    0\n",
       "pixel783    0\n",
       "pixel784    0\n",
       "Length: 785, dtype: int64"
      ]
     },
     "execution_count": 2,
     "metadata": {},
     "output_type": "execute_result"
    }
   ],
   "source": [
    "#Checking for nulls, always a good practice\n",
    "train_data.isnull().sum()\n",
    "test_data.isnull().sum()"
   ]
  },
  {
   "cell_type": "markdown",
   "id": "understood-columbia",
   "metadata": {},
   "source": [
    "### Splitting data and scaling the size of the dataset\n",
    "\n",
    "Lets note that the size of the dataset its pretty big (maybe to much for what is needed in this case).\n",
    "So, in order to perform a good model selection we have to do a resize, we cant just brute force it.\n",
    "This will also be good to perform hyperparameter tuning in an efficient way. As we now, accuracy is good, but youre time as a programmer is also valuable:)\n",
    "\n",
    "I'll start with a reasonable amount of data."
   ]
  },
  {
   "cell_type": "code",
   "execution_count": 3,
   "id": "behavioral-database",
   "metadata": {},
   "outputs": [],
   "source": [
    "#Splitting the data (we start with 10000 just to give us an idea of which model to pick)\n",
    "X_train    = train_data.iloc[:10000, 1:].values\n",
    "y_train    = train_data.iloc[:10000, 0].values\n",
    "X_test     = test_data.iloc[:, 1:].values\n",
    "y_test     = test_data.iloc[:, 0].values"
   ]
  },
  {
   "cell_type": "markdown",
   "id": "satisfactory-belief",
   "metadata": {},
   "source": [
    "### Choosing the model\n",
    "For this problem I'll try 3 different models:\n",
    "* Support Vector Machine - Pretty robust and works very well for classification problems and the sparsity of the data its a plus\n",
    "* Random forest tree - It works pretty well in a lot problems (including this one) and its pretty fast\n",
    "* K nearest neighbors - Its good for multiclass classification and works well with large datasets.\n",
    "\n",
    "We wont use Logistic regression nor naive bayes, since we dont want to know the exact probabity. Also, Even though logistic regression works fine for multiple labels predictions, it works the best when is just binary\n",
    "\n",
    "NOTE: I tried a simple LR model in another file, and it is a good model, but as we'll see, it gets outperformed by other models.\n"
   ]
  },
  {
   "cell_type": "code",
   "execution_count": 7,
   "id": "declared-atlas",
   "metadata": {},
   "outputs": [
    {
     "data": {
      "text/plain": [
       "0.8423"
      ]
     },
     "execution_count": 7,
     "metadata": {},
     "output_type": "execute_result"
    }
   ],
   "source": [
    "#Random Forest\n",
    "from sklearn.ensemble import RandomForestClassifier\n",
    "from sklearn.metrics import confusion_matrix, accuracy_score\n",
    "\n",
    "classifier = RandomForestClassifier(n_estimators = 10, criterion = 'entropy', random_state = 0)\n",
    "classifier.fit(X_train, y_train)\n",
    "\n",
    "\n",
    "y_pred = classifier.predict(X_test)\n",
    "accuracy_score(y_test, y_pred)"
   ]
  },
  {
   "cell_type": "code",
   "execution_count": 8,
   "id": "lesbian-might",
   "metadata": {},
   "outputs": [
    {
     "data": {
      "text/plain": [
       "0.8218"
      ]
     },
     "execution_count": 8,
     "metadata": {},
     "output_type": "execute_result"
    }
   ],
   "source": [
    "#KNN\n",
    "from sklearn.neighbors import KNeighborsClassifier\n",
    "classifier = KNeighborsClassifier(n_neighbors = 5, metric = 'minkowski', p = 2)\n",
    "classifier.fit(X_train, y_train)\n",
    "\n",
    "y_pred = classifier.predict(X_test)\n",
    "accuracy_score(y_test, y_pred)"
   ]
  },
  {
   "cell_type": "code",
   "execution_count": 9,
   "id": "sunrise-relative",
   "metadata": {},
   "outputs": [
    {
     "data": {
      "text/plain": [
       "0.8614"
      ]
     },
     "execution_count": 9,
     "metadata": {},
     "output_type": "execute_result"
    }
   ],
   "source": [
    "#SVM\n",
    "from sklearn.svm import SVC\n",
    "classifier = SVC(gamma=\"scale\", kernel = 'rbf', random_state = 0)\n",
    "classifier.fit(X_train, y_train)\n",
    "\n",
    "y_pred = classifier.predict(X_test)\n",
    "accuracy_score(y_test, y_pred)"
   ]
  },
  {
   "cell_type": "markdown",
   "id": "large-childhood",
   "metadata": {},
   "source": [
    "Since SVM was the best model for this case, I'll pick that model for further analysis and tuning"
   ]
  },
  {
   "cell_type": "markdown",
   "id": "successful-insertion",
   "metadata": {},
   "source": [
    "### Hyperparameter tuning of SVM\n",
    "\n",
    "As we know, 86.14% its a very good score. But we can improve that score while improving the efficiency\n",
    "\n",
    "But first, lets feed the model with some more data..."
   ]
  },
  {
   "cell_type": "code",
   "execution_count": 10,
   "id": "bizarre-complement",
   "metadata": {},
   "outputs": [],
   "source": [
    "X_train    = train_data.iloc[:15000, 1:].values\n",
    "y_train    = train_data.iloc[:15000, 0].values"
   ]
  },
  {
   "cell_type": "markdown",
   "id": "original-nowhere",
   "metadata": {},
   "source": [
    "Let's start with the GridSearch"
   ]
  },
  {
   "cell_type": "code",
   "execution_count": null,
   "id": "alien-debut",
   "metadata": {},
   "outputs": [],
   "source": [
    "from sklearn.model_selection import GridSearchCV\n",
    "\n",
    "\n",
    "\n",
    "params = {\n",
    " \t\t  'C': [0.01,0.1,1,10,50,100],\n",
    " \t\t  'kernel': ['rbf','sigmoid'],\n",
    " \t\t  'gamma':['scale']\n",
    " \t\t }\n",
    "classifier = SVC(**params, probability=True)\n",
    "\n",
    "classifier_opt = GridSearchCV(classifier, param_grid=params, scoring='neg_log_loss', n_jobs=-1, cv=2, verbose=10)\n",
    "classifier_opt.fit(X_train, y_train)\n",
    "\n",
    "classifier_opt.best_params_"
   ]
  },
  {
   "attachments": {
    "image.png": {
     "image/png": "[encoded data removed]"
    }
   },
   "cell_type": "markdown",
   "id": "successful-bacon",
   "metadata": {},
   "source": [
    "![image.png](attachment:image.png)"
   ]
  },
  {
   "cell_type": "code",
   "execution_count": 11,
   "id": "manual-dating",
   "metadata": {},
   "outputs": [
    {
     "data": {
      "text/plain": [
       "0.883"
      ]
     },
     "execution_count": 11,
     "metadata": {},
     "output_type": "execute_result"
    }
   ],
   "source": [
    "classifier = SVC(gamma=\"scale\", kernel = 'rbf', C=10, random_state = 0)\n",
    "classifier.fit(X_train, y_train)\n",
    "\n",
    "\n",
    "y_pred = classifier.predict(X_test)\n",
    "accuracy_score(y_test, y_pred)"
   ]
  },
  {
   "cell_type": "code",
   "execution_count": 12,
   "id": "pursuant-dakota",
   "metadata": {},
   "outputs": [
    {
     "name": "stdout",
     "output_type": "stream",
     "text": [
      "Mean accuracy:  0.8776666666666667\n"
     ]
    }
   ],
   "source": [
    "from sklearn.model_selection import cross_validate\n",
    "cv_results = cross_validate(classifier, X_train, y_train, cv=3)\n",
    "print(f\"Mean accuracy:  {cv_results['test_score'].mean()}\")"
   ]
  },
  {
   "cell_type": "markdown",
   "id": "literary-spanking",
   "metadata": {},
   "source": [
    "### PCA (As an extra step)\n",
    "Since our data has +700 features (dimensions) we might as well see what we can do about it. It could improve our performance and accuracy (or let it almost the same). So there's no reason to avoid a PCA (in this case)."
   ]
  },
  {
   "cell_type": "code",
   "execution_count": 13,
   "id": "numeric-input",
   "metadata": {},
   "outputs": [
    {
     "data": {
      "image/png": "[encoded data removed]",
      "text/plain": [
       "<Figure size 432x288 with 1 Axes>"
      ]
     },
     "metadata": {
      "needs_background": "light"
     },
     "output_type": "display_data"
    }
   ],
   "source": [
    "from sklearn.decomposition import PCA\n",
    "pca = PCA().fit(X_train)\n",
    "plt.plot(np.cumsum(pca.explained_variance_ratio_))\n",
    "plt.xlabel('number of components')\n",
    "plt.ylabel('cumulative explained variance');"
   ]
  },
  {
   "cell_type": "markdown",
   "id": "frank-sally",
   "metadata": {},
   "source": [
    "The explained variance starts to flat around 400-500, so lets use the first 400 components of our dataset to fit the model again"
   ]
  },
  {
   "cell_type": "code",
   "execution_count": 14,
   "id": "affected-retention",
   "metadata": {},
   "outputs": [],
   "source": [
    "pca = PCA(n_components=400)\n",
    "pca.fit(X_train)\n",
    "pca_X_train = pca.transform(X_train)\n",
    "pca_X_test = pca.transform(X_test)\n"
   ]
  },
  {
   "cell_type": "markdown",
   "id": "eligible-tribute",
   "metadata": {},
   "source": [
    "### Results"
   ]
  },
  {
   "cell_type": "code",
   "execution_count": 15,
   "id": "unlike-brush",
   "metadata": {},
   "outputs": [
    {
     "name": "stdout",
     "output_type": "stream",
     "text": [
      "Test acc 0.883\n"
     ]
    }
   ],
   "source": [
    "classifier = SVC(gamma='scale',kernel='rbf',C=10)\n",
    "classifier.fit(X_train,y_train)\n",
    "preds = classifier.predict(X_test)\n",
    "\n",
    "print(f\"Test acc {accuracy_score(preds,y_test)}\")"
   ]
  },
  {
   "cell_type": "markdown",
   "id": "voluntary-charity",
   "metadata": {},
   "source": [
    "Not that much of a improvemen in accuracy, but sure it was faster. So lets call it a victory :)"
   ]
  },
  {
   "cell_type": "markdown",
   "id": "jewish-bonus",
   "metadata": {},
   "source": [
    "### What to improve?"
   ]
  },
  {
   "cell_type": "markdown",
   "id": "inside-input",
   "metadata": {},
   "source": [
    "* We could do graph that tells us the accuracy in function of the amount of data given to the model, in order to know how much data we can give to the model in order to be as fast as possible\n",
    "* It would be nice to set a constant amount of data. The same amount of data when we are choosing our model as when we are tuning the best model\n",
    "* We can do a better work narrowing down the optimal value for C "
   ]
  }
 ],
 "metadata": {
  "kernelspec": {
   "display_name": "Python 3",
   "language": "python",
   "name": "python3"
  },
  "language_info": {
   "codemirror_mode": {
    "name": "ipython",
    "version": 3
   },
   "file_extension": ".py",
   "mimetype": "text/x-python",
   "name": "python",
   "nbconvert_exporter": "python",
   "pygments_lexer": "ipython3",
   "version": "3.8.3"
  }
 },
 "nbformat": 4,
 "nbformat_minor": 5
}
